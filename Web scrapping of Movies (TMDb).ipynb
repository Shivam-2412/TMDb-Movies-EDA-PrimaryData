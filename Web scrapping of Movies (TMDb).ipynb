{
 "cells": [
  {
   "cell_type": "code",
   "execution_count": 1,
   "id": "eaf30b35",
   "metadata": {},
   "outputs": [],
   "source": [
    "import pandas as pd\n",
    "import numpy as np\n",
    "import requests\n",
    "from bs4 import BeautifulSoup"
   ]
  },
  {
   "cell_type": "code",
   "execution_count": 2,
   "id": "b9153bb2",
   "metadata": {},
   "outputs": [],
   "source": [
    "# url of Ist page\n",
    "\n",
    "url = 'https://www.themoviedb.org/movie?page-' + str(1)\n",
    "\n",
    "headers = {\"user-agent\": \n",
    "           \"Mozilla/5.0 (Windows NT 10.0; WOW64) AppleWebKit/537.36 (KHTML, like Gecko) Chrome/103.0.0.0 Safari/537.36\"}\n",
    "\n",
    "response = requests.get(url, headers = headers)"
   ]
  },
  {
   "cell_type": "code",
   "execution_count": 3,
   "id": "4a62269c",
   "metadata": {},
   "outputs": [],
   "source": [
    "doc = BeautifulSoup(response.text, 'html.parser')"
   ]
  },
  {
   "cell_type": "code",
   "execution_count": 4,
   "id": "d5095f2d",
   "metadata": {},
   "outputs": [],
   "source": [
    "# getting name of the movie\n",
    "\n",
    "Name_tags = doc.find_all('h2')\n",
    "Movies_names = []\n",
    "for i in range (4, len(Name_tags)) :\n",
    "     Movies_names.append(Name_tags[i].text)"
   ]
  },
  {
   "cell_type": "code",
   "execution_count": 5,
   "id": "a3c94eab",
   "metadata": {},
   "outputs": [],
   "source": [
    "# release year of movie\n",
    "\n",
    "release_tags = doc.find_all('p')\n",
    "release_year = []\n",
    "for i in range (1, 21):\n",
    "     release_year.append(release_tags[i].text)"
   ]
  },
  {
   "cell_type": "code",
   "execution_count": 6,
   "id": "480776c8",
   "metadata": {},
   "outputs": [],
   "source": [
    "# Link of movie\n",
    "\n",
    "link_tags = doc.find_all('a', {'class' : 'image'})\n",
    "movie_links = []\n",
    "base_url ='https://www.themoviedb.org'\n",
    "for i in range (len(link_tags)):\n",
    " \n",
    " movie_links.append(base_url + link_tags[i]['href'])"
   ]
  },
  {
   "cell_type": "code",
   "execution_count": 7,
   "id": "30c1849b",
   "metadata": {},
   "outputs": [],
   "source": [
    "# rating of movie\n",
    "\n",
    "rating = []\n",
    "rating_tag = doc.find_all('div', {'class' : 'user_score_chart'})\n",
    "for i in range (len(rating_tag)):\n",
    "     rating.append(rating_tag[i]['data-percent'])"
   ]
  },
  {
   "cell_type": "code",
   "execution_count": 8,
   "id": "2b2e3b5c",
   "metadata": {},
   "outputs": [],
   "source": [
    "# Following same procedure as above for 500 pages\n",
    "\n",
    "for i in range(2,501):\n",
    "    \n",
    "    url = 'https://www.themoviedb.org/movie?page-' + str(i)\n",
    "    \n",
    "    response = requests.get(url, headers = headers)\n",
    "    \n",
    "    doc = BeautifulSoup(response.text, 'html.parser')\n",
    "    \n",
    "    Name_tags = doc.find_all('h2')\n",
    "    for i in range (4, len(Name_tags)) :\n",
    "         Movies_names.append(Name_tags[i].text)\n",
    "            \n",
    "    release_tags = doc.find_all('p')\n",
    "    for i in range (1, 21):\n",
    "         release_year.append(release_tags[i].text)\n",
    "            \n",
    "    link_tags = doc.find_all('a', {'class' : 'image'})\n",
    "    base_url ='https://www.themoviedb.org'\n",
    "    for i in range (len(link_tags)):\n",
    "         movie_links.append(base_url + link_tags[i]['href'])\n",
    "            \n",
    "    rating_tag = doc.find_all('div', {'class' : 'user_score_chart'})\n",
    "    for i in range (len(rating_tag)):\n",
    "         rating.append(rating_tag[i]['data-percent'])"
   ]
  },
  {
   "cell_type": "code",
   "execution_count": 9,
   "id": "f26063f8",
   "metadata": {},
   "outputs": [
    {
     "data": {
      "text/plain": [
       "10000"
      ]
     },
     "execution_count": 9,
     "metadata": {},
     "output_type": "execute_result"
    }
   ],
   "source": [
    "len(movie_links)"
   ]
  },
  {
   "cell_type": "markdown",
   "id": "2b02cdaf",
   "metadata": {},
   "source": [
    "# Getting data about each movie using movies links"
   ]
  },
  {
   "cell_type": "code",
   "execution_count": 10,
   "id": "2cfe38e6",
   "metadata": {},
   "outputs": [],
   "source": [
    "Movie_url = movie_links[0]\n",
    "r = requests.get(Movie_url, headers = headers)\n",
    "movie_docs = BeautifulSoup(r.text, 'html.parser')"
   ]
  },
  {
   "cell_type": "code",
   "execution_count": 11,
   "id": "563d3ff9",
   "metadata": {},
   "outputs": [],
   "source": [
    "# desc about movie\n",
    "desc_tag = movie_docs.find_all('div', {'class' : 'overview'})\n",
    "desc = desc_tag[0].text.strip()"
   ]
  },
  {
   "cell_type": "code",
   "execution_count": 12,
   "id": "cd0a9816",
   "metadata": {},
   "outputs": [],
   "source": [
    "# Director of movie\n",
    "director_tag = movie_docs.find_all('li', {'class' : 'profile'})\n",
    "Director = director_tag[0].text.strip().split('\\n')[0]"
   ]
  },
  {
   "cell_type": "code",
   "execution_count": 13,
   "id": "485b82ab",
   "metadata": {},
   "outputs": [],
   "source": [
    "# Movie Runtime\n",
    "runtime_tag = movie_docs.find_all('span', {'class' : 'runtime'})\n",
    "runtime = runtime_tag[0].text.strip()"
   ]
  },
  {
   "cell_type": "code",
   "execution_count": 14,
   "id": "e5abe7af",
   "metadata": {},
   "outputs": [],
   "source": [
    "# Budget of movie\n",
    "side_column_tags = movie_docs.find('section', {'class' : 'facts left_column'}).find_all('p')\n",
    "Budget = side_column_tags[len(side_column_tags)-2].text.strip().split(' ')[1]"
   ]
  },
  {
   "cell_type": "code",
   "execution_count": 15,
   "id": "422457af",
   "metadata": {},
   "outputs": [],
   "source": [
    "# Revenue of movie\n",
    "Revenue = side_column_tags[len(side_column_tags)-1].text.strip().split(' ')[1]"
   ]
  },
  {
   "cell_type": "code",
   "execution_count": 16,
   "id": "23776e21",
   "metadata": {},
   "outputs": [],
   "source": [
    "# Language of movie\n",
    "Language = side_column_tags[len(side_column_tags)-3].text.strip().split(' ')[2]"
   ]
  },
  {
   "cell_type": "code",
   "execution_count": 17,
   "id": "0a91be33",
   "metadata": {},
   "outputs": [],
   "source": [
    "Description = []\n",
    "Movie_runtime = []\n",
    "Budget = []\n",
    "Revenue = []\n",
    "Language = []"
   ]
  },
  {
   "cell_type": "code",
   "execution_count": 22,
   "id": "12e1c227",
   "metadata": {},
   "outputs": [],
   "source": [
    "for i in range (0,10000) :\n",
    " \n",
    "     Movie_url = movie_links[i]\n",
    " \n",
    "     r = requests.get(Movie_url, headers = headers)\n",
    " \n",
    "     movie_docs = BeautifulSoup(r.text, 'html.parser')\n",
    " \n",
    "     desc_tag = movie_docs.find_all('div', {'class' : 'overview'})\n",
    "     Description.append(desc_tag[0].text.strip())\n",
    " \n",
    "     runtime_tag = movie_docs.find_all('span', {'class' : 'runtime'})\n",
    "     Movie_runtime.append(runtime_tag[0].text.strip())\n",
    " \n",
    "     side_column_tags = movie_docs.find('section', {'class' : 'facts left_column'}).find_all('p')\n",
    " \n",
    "     Budget.append(side_column_tags[len(side_column_tags)-2].text.strip().split(' ')[1])\n",
    " \n",
    "     Revenue.append(side_column_tags[len(side_column_tags)-1].text.strip().split(' ')[1])\n",
    "    \n",
    "     Language.append(side_column_tags[len(side_column_tags)-3].text.strip().split(' ')[2])\n"
   ]
  },
  {
   "cell_type": "code",
   "execution_count": 23,
   "id": "d32b5f57",
   "metadata": {},
   "outputs": [
    {
     "data": {
      "text/plain": [
       "10000"
      ]
     },
     "execution_count": 23,
     "metadata": {},
     "output_type": "execute_result"
    }
   ],
   "source": [
    "len(Language)"
   ]
  },
  {
   "cell_type": "code",
   "execution_count": 32,
   "id": "99e4ff84",
   "metadata": {},
   "outputs": [],
   "source": [
    "dict = {\n",
    "    'Movie name' : Movies_names,\n",
    "    'Release date' : release_year,\n",
    "    'Language' : Language,\n",
    "    'Rating' : rating,\n",
    "    'Runtime' : Movie_runtime,\n",
    "    'Description' : Description,\n",
    "    'Budget' : Budget,\n",
    "    'Revenue' : Revenue,\n",
    "    'Movie link' : movie_links\n",
    "}\n",
    "\n",
    "data = pd.DataFrame(dict)"
   ]
  },
  {
   "cell_type": "code",
   "execution_count": 33,
   "id": "1d3aa7bb",
   "metadata": {},
   "outputs": [
    {
     "data": {
      "text/html": [
       "<div>\n",
       "<style scoped>\n",
       "    .dataframe tbody tr th:only-of-type {\n",
       "        vertical-align: middle;\n",
       "    }\n",
       "\n",
       "    .dataframe tbody tr th {\n",
       "        vertical-align: top;\n",
       "    }\n",
       "\n",
       "    .dataframe thead th {\n",
       "        text-align: right;\n",
       "    }\n",
       "</style>\n",
       "<table border=\"1\" class=\"dataframe\">\n",
       "  <thead>\n",
       "    <tr style=\"text-align: right;\">\n",
       "      <th></th>\n",
       "      <th>Movie name</th>\n",
       "      <th>Release date</th>\n",
       "      <th>Language</th>\n",
       "      <th>Rating</th>\n",
       "      <th>Runtime</th>\n",
       "      <th>Description</th>\n",
       "      <th>Budget</th>\n",
       "      <th>Revenue</th>\n",
       "      <th>Movie link</th>\n",
       "    </tr>\n",
       "  </thead>\n",
       "  <tbody>\n",
       "    <tr>\n",
       "      <th>0</th>\n",
       "      <td>Thor: Love and Thunder</td>\n",
       "      <td>Jul 06, 2022</td>\n",
       "      <td>English</td>\n",
       "      <td>67.0</td>\n",
       "      <td>1h 59m</td>\n",
       "      <td>After his retirement is interrupted by Gorr th...</td>\n",
       "      <td>$250,000,000.00</td>\n",
       "      <td>$662,000,000.00</td>\n",
       "      <td>https://www.themoviedb.org/movie/616037</td>\n",
       "    </tr>\n",
       "    <tr>\n",
       "      <th>1</th>\n",
       "      <td>Jurassic World Dominion</td>\n",
       "      <td>Jun 01, 2022</td>\n",
       "      <td>English</td>\n",
       "      <td>71.0</td>\n",
       "      <td>2h 27m</td>\n",
       "      <td>Four years after Isla Nublar was destroyed, di...</td>\n",
       "      <td>$165,000,000.00</td>\n",
       "      <td>$921,000,000.00</td>\n",
       "      <td>https://www.themoviedb.org/movie/507086</td>\n",
       "    </tr>\n",
       "    <tr>\n",
       "      <th>2</th>\n",
       "      <td>Minions: The Rise of Gru</td>\n",
       "      <td>Jun 29, 2022</td>\n",
       "      <td>English</td>\n",
       "      <td>75.0</td>\n",
       "      <td>1h 27m</td>\n",
       "      <td>A fanboy of a supervillain supergroup known as...</td>\n",
       "      <td>$85,000,000.00</td>\n",
       "      <td>$710,000,000.00</td>\n",
       "      <td>https://www.themoviedb.org/movie/438148</td>\n",
       "    </tr>\n",
       "    <tr>\n",
       "      <th>3</th>\n",
       "      <td>Top Gun: Maverick</td>\n",
       "      <td>May 24, 2022</td>\n",
       "      <td>English</td>\n",
       "      <td>83.0</td>\n",
       "      <td>2h 11m</td>\n",
       "      <td>After more than thirty years of service as one...</td>\n",
       "      <td>$170,000,000.00</td>\n",
       "      <td>$1,321,104,000.00</td>\n",
       "      <td>https://www.themoviedb.org/movie/361743</td>\n",
       "    </tr>\n",
       "    <tr>\n",
       "      <th>4</th>\n",
       "      <td>The Black Phone</td>\n",
       "      <td>Jun 22, 2022</td>\n",
       "      <td>English</td>\n",
       "      <td>80</td>\n",
       "      <td>1h 43m</td>\n",
       "      <td>Finney Shaw, a shy but clever 13-year-old boy,...</td>\n",
       "      <td>$18,800,000.00</td>\n",
       "      <td>$114,000,000.00</td>\n",
       "      <td>https://www.themoviedb.org/movie/756999</td>\n",
       "    </tr>\n",
       "    <tr>\n",
       "      <th>...</th>\n",
       "      <td>...</td>\n",
       "      <td>...</td>\n",
       "      <td>...</td>\n",
       "      <td>...</td>\n",
       "      <td>...</td>\n",
       "      <td>...</td>\n",
       "      <td>...</td>\n",
       "      <td>...</td>\n",
       "      <td>...</td>\n",
       "    </tr>\n",
       "    <tr>\n",
       "      <th>9995</th>\n",
       "      <td>Spider-Man: No Way Home</td>\n",
       "      <td>Dec 15, 2021</td>\n",
       "      <td>English</td>\n",
       "      <td>81.0</td>\n",
       "      <td>2h 28m</td>\n",
       "      <td>Peter Parker is unmasked and no longer able to...</td>\n",
       "      <td>$200,000,000.00</td>\n",
       "      <td>$1,892,000,000.00</td>\n",
       "      <td>https://www.themoviedb.org/movie/634649</td>\n",
       "    </tr>\n",
       "    <tr>\n",
       "      <th>9996</th>\n",
       "      <td>Shut In</td>\n",
       "      <td>Mar 24, 2022</td>\n",
       "      <td>English</td>\n",
       "      <td>71.0</td>\n",
       "      <td>1h 30m</td>\n",
       "      <td>A young single mother is held captive along wi...</td>\n",
       "      <td>-</td>\n",
       "      <td>$304,106.00</td>\n",
       "      <td>https://www.themoviedb.org/movie/629015</td>\n",
       "    </tr>\n",
       "    <tr>\n",
       "      <th>9997</th>\n",
       "      <td>Sonic the Hedgehog 2</td>\n",
       "      <td>Mar 30, 2022</td>\n",
       "      <td>English</td>\n",
       "      <td>77.0</td>\n",
       "      <td>2h 2m</td>\n",
       "      <td>After settling in Green Hills, Sonic is eager ...</td>\n",
       "      <td>$110,000,000.00</td>\n",
       "      <td>$401,800,000.00</td>\n",
       "      <td>https://www.themoviedb.org/movie/675353</td>\n",
       "    </tr>\n",
       "    <tr>\n",
       "      <th>9998</th>\n",
       "      <td>Dog</td>\n",
       "      <td>Feb 17, 2022</td>\n",
       "      <td>English</td>\n",
       "      <td>74.0</td>\n",
       "      <td>1h 42m</td>\n",
       "      <td>An army ranger and his dog embark on a road tr...</td>\n",
       "      <td>$20,000,000.00</td>\n",
       "      <td>$77,263,354.00</td>\n",
       "      <td>https://www.themoviedb.org/movie/626735</td>\n",
       "    </tr>\n",
       "    <tr>\n",
       "      <th>9999</th>\n",
       "      <td>Vendetta</td>\n",
       "      <td>May 17, 2022</td>\n",
       "      <td>English</td>\n",
       "      <td>65.0</td>\n",
       "      <td>1h 36m</td>\n",
       "      <td>When his daughter is murdered, William Duncan ...</td>\n",
       "      <td>-</td>\n",
       "      <td>-</td>\n",
       "      <td>https://www.themoviedb.org/movie/894169</td>\n",
       "    </tr>\n",
       "  </tbody>\n",
       "</table>\n",
       "<p>10000 rows × 9 columns</p>\n",
       "</div>"
      ],
      "text/plain": [
       "                    Movie name  Release date Language Rating Runtime  \\\n",
       "0       Thor: Love and Thunder  Jul 06, 2022  English   67.0  1h 59m   \n",
       "1      Jurassic World Dominion  Jun 01, 2022  English   71.0  2h 27m   \n",
       "2     Minions: The Rise of Gru  Jun 29, 2022  English   75.0  1h 27m   \n",
       "3            Top Gun: Maverick  May 24, 2022  English   83.0  2h 11m   \n",
       "4              The Black Phone  Jun 22, 2022  English     80  1h 43m   \n",
       "...                        ...           ...      ...    ...     ...   \n",
       "9995   Spider-Man: No Way Home  Dec 15, 2021  English   81.0  2h 28m   \n",
       "9996                   Shut In  Mar 24, 2022  English   71.0  1h 30m   \n",
       "9997      Sonic the Hedgehog 2  Mar 30, 2022  English   77.0   2h 2m   \n",
       "9998                       Dog  Feb 17, 2022  English   74.0  1h 42m   \n",
       "9999                  Vendetta  May 17, 2022  English   65.0  1h 36m   \n",
       "\n",
       "                                            Description           Budget  \\\n",
       "0     After his retirement is interrupted by Gorr th...  $250,000,000.00   \n",
       "1     Four years after Isla Nublar was destroyed, di...  $165,000,000.00   \n",
       "2     A fanboy of a supervillain supergroup known as...   $85,000,000.00   \n",
       "3     After more than thirty years of service as one...  $170,000,000.00   \n",
       "4     Finney Shaw, a shy but clever 13-year-old boy,...   $18,800,000.00   \n",
       "...                                                 ...              ...   \n",
       "9995  Peter Parker is unmasked and no longer able to...  $200,000,000.00   \n",
       "9996  A young single mother is held captive along wi...                -   \n",
       "9997  After settling in Green Hills, Sonic is eager ...  $110,000,000.00   \n",
       "9998  An army ranger and his dog embark on a road tr...   $20,000,000.00   \n",
       "9999  When his daughter is murdered, William Duncan ...                -   \n",
       "\n",
       "                Revenue                               Movie link  \n",
       "0       $662,000,000.00  https://www.themoviedb.org/movie/616037  \n",
       "1       $921,000,000.00  https://www.themoviedb.org/movie/507086  \n",
       "2       $710,000,000.00  https://www.themoviedb.org/movie/438148  \n",
       "3     $1,321,104,000.00  https://www.themoviedb.org/movie/361743  \n",
       "4       $114,000,000.00  https://www.themoviedb.org/movie/756999  \n",
       "...                 ...                                      ...  \n",
       "9995  $1,892,000,000.00  https://www.themoviedb.org/movie/634649  \n",
       "9996        $304,106.00  https://www.themoviedb.org/movie/629015  \n",
       "9997    $401,800,000.00  https://www.themoviedb.org/movie/675353  \n",
       "9998     $77,263,354.00  https://www.themoviedb.org/movie/626735  \n",
       "9999                  -  https://www.themoviedb.org/movie/894169  \n",
       "\n",
       "[10000 rows x 9 columns]"
      ]
     },
     "execution_count": 33,
     "metadata": {},
     "output_type": "execute_result"
    }
   ],
   "source": [
    "data"
   ]
  },
  {
   "cell_type": "code",
   "execution_count": 34,
   "id": "41e538d9",
   "metadata": {},
   "outputs": [
    {
     "data": {
      "text/plain": [
       "(10000, 9)"
      ]
     },
     "execution_count": 34,
     "metadata": {},
     "output_type": "execute_result"
    }
   ],
   "source": [
    "data.shape"
   ]
  },
  {
   "cell_type": "code",
   "execution_count": 35,
   "id": "57c0b482",
   "metadata": {},
   "outputs": [],
   "source": [
    "# creating csv file of this data\n",
    "\n",
    "data.to_csv('Movies_Dataset.csv')"
   ]
  },
  {
   "cell_type": "code",
   "execution_count": null,
   "id": "50211915",
   "metadata": {},
   "outputs": [],
   "source": []
  }
 ],
 "metadata": {
  "kernelspec": {
   "display_name": "Python 3 (ipykernel)",
   "language": "python",
   "name": "python3"
  },
  "language_info": {
   "codemirror_mode": {
    "name": "ipython",
    "version": 3
   },
   "file_extension": ".py",
   "mimetype": "text/x-python",
   "name": "python",
   "nbconvert_exporter": "python",
   "pygments_lexer": "ipython3",
   "version": "3.10.3"
  }
 },
 "nbformat": 4,
 "nbformat_minor": 5
}
